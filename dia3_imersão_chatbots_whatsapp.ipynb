{
  "nbformat": 4,
  "nbformat_minor": 0,
  "metadata": {
    "colab": {
      "name": "dia3-imersão-chatbots-whatsapp.ipynb",
      "provenance": [],
      "private_outputs": true,
      "collapsed_sections": [
        "FKTCwGJ8clLa",
        "lbs9dRA8fIk6",
        "VoPwjJQ8iJTh",
        "6-aBKMgMgKfC",
        "4i1VpRRDctfx"
      ],
      "include_colab_link": true
    },
    "kernelspec": {
      "name": "python3",
      "display_name": "Python 3"
    },
    "accelerator": "GPU"
  },
  "cells": [
    {
      "cell_type": "markdown",
      "metadata": {
        "id": "view-in-github",
        "colab_type": "text"
      },
      "source": [
        "<a href=\"https://colab.research.google.com/github/salomao2005/Cookbook/blob/master/dia3_imers%C3%A3o_chatbots_whatsapp.ipynb\" target=\"_parent\"><img src=\"https://colab.research.google.com/assets/colab-badge.svg\" alt=\"Open In Colab\"/></a>"
      ]
    },
    {
      "cell_type": "markdown",
      "metadata": {
        "id": "FKTCwGJ8clLa",
        "colab_type": "text"
      },
      "source": [
        "#NLP(Processamento de Linguagem Natural)\n",
        "---\n",
        "No BOOTCAMP CHATBOTS PARA WHATSAPP aprofundamos os conhecimentos com aprofundamento em Expressões Regulares(Regex)."
      ]
    },
    {
      "cell_type": "markdown",
      "metadata": {
        "id": "lbs9dRA8fIk6",
        "colab_type": "text"
      },
      "source": [
        "## Passo 1 - Tokenization\n",
        "---\n",
        "Ato de separar sentenças, palavras, tweets em pedaços menores(chunks) para maior assertividade de semântica ou remoção de palavras indesejadas."
      ]
    },
    {
      "cell_type": "code",
      "metadata": {
        "id": "loQRn9eGcbZs",
        "colab_type": "code",
        "colab": {}
      },
      "source": [
        "from nltk.tokenize import word_tokenize\n",
        "word_tokenize(\"Olá, me chamo Antônio\")"
      ],
      "execution_count": 0,
      "outputs": []
    },
    {
      "cell_type": "markdown",
      "metadata": {
        "id": "VoPwjJQ8iJTh",
        "colab_type": "text"
      },
      "source": [
        "## Passo 2 - Bag-of-Words\n",
        "---\n",
        "Contagem de palavras para que o algoritmo encontre a importância de cada token.\n"
      ]
    },
    {
      "cell_type": "code",
      "metadata": {
        "id": "Oq4zsX6XiQ8g",
        "colab_type": "code",
        "colab": {}
      },
      "source": [
        "from nltk.tokenize import word_tokenize\n",
        "from collections import Counter\n",
        "frase = \"Antônio ama programação. Antônio adora Python. Antônio prefere programação orientada a objetos\"\n",
        "Counter(word_tokenize(frase))"
      ],
      "execution_count": 0,
      "outputs": []
    },
    {
      "cell_type": "code",
      "metadata": {
        "id": "geh_CgVXjeG8",
        "colab_type": "code",
        "colab": {}
      },
      "source": [
        "Counter(word_tokenize(frase)).most_common(2)"
      ],
      "execution_count": 0,
      "outputs": []
    },
    {
      "cell_type": "markdown",
      "metadata": {
        "id": "6-aBKMgMgKfC",
        "colab_type": "text"
      },
      "source": [
        "## Passo 3 - Stopwords\n",
        "---\n",
        "Ato de remover palavras indesejadas. Exemplo: artigos ou palavras que não trazem consigo apelo relacionado a gramática ou semântica."
      ]
    },
    {
      "cell_type": "code",
      "metadata": {
        "id": "X1hKVVOipIif",
        "colab_type": "code",
        "colab": {}
      },
      "source": [
        "import nltk\n",
        "nltk.download('stopwords')\n",
        "nltk.download('punkt')\n",
        "\n",
        "from nltk.corpus import stopwords \n",
        "from nltk.tokenize import word_tokenize \n",
        " \n",
        "frase = \"Antônio ama a programação. Antônio adora o Python. Antônio prefere a programação orientada a objetos.\"\n",
        "stopwords = set(stopwords.words('portuguese')) \n",
        "word_tokens = word_tokenize(frase) \n",
        "\n",
        "limpas = [w for w in word_tokens if not w in stopwords] \n",
        "limpas = []\n",
        "\n",
        "for w in word_tokens: \n",
        "    if w not in stopwords: \n",
        "        limpas.append(w) \n",
        "\n",
        "print(word_tokens) \n",
        "print(limpas) "
      ],
      "execution_count": 0,
      "outputs": []
    },
    {
      "cell_type": "markdown",
      "metadata": {
        "id": "DALgE1MlnfjB",
        "colab_type": "text"
      },
      "source": [
        "Obs.: No BOOTCAMP CHATBOTS PARA WHATSAPP executamos todo pipeline NLP, além de aprofundamento no pré-processamento dos textos e diversas outras funções dentro do nltk e outras biblitoecas bastante relevantes."
      ]
    },
    {
      "cell_type": "markdown",
      "metadata": {
        "id": "4i1VpRRDctfx",
        "colab_type": "text"
      },
      "source": [
        "#Criando seu primeiro Chatbot"
      ]
    },
    {
      "cell_type": "code",
      "metadata": {
        "id": "kjv81GHUcuAH",
        "colab_type": "code",
        "colab": {}
      },
      "source": [
        "!pip install chatterbot\n",
        "!pip install chatterbot_corpus"
      ],
      "execution_count": 0,
      "outputs": []
    },
    {
      "cell_type": "code",
      "metadata": {
        "id": "R7Bt3z_-j1dN",
        "colab_type": "code",
        "colab": {}
      },
      "source": [
        "from chatterbot import ChatBot\n",
        "from chatterbot.trainers import ChatterBotCorpusTrainer\n",
        "from chatterbot.trainers import ListTrainer"
      ],
      "execution_count": 0,
      "outputs": []
    },
    {
      "cell_type": "code",
      "metadata": {
        "id": "5q_nynzPkeXt",
        "colab_type": "code",
        "colab": {}
      },
      "source": [
        "chatbot = ChatBot(\"Ananda\")\n",
        "trainer = ChatterBotCorpusTrainer(chatbot)\n",
        "trainer.train(\"chatterbot.corpus.portuguese\")"
      ],
      "execution_count": 0,
      "outputs": []
    },
    {
      "cell_type": "code",
      "metadata": {
        "id": "SpArG4pVlUNn",
        "colab_type": "code",
        "colab": {}
      },
      "source": [
        "while True:\n",
        "  try:\n",
        "      bot_input = chatbot.get_response(input())\n",
        "      print(bot_input)\n",
        "  except:\n",
        "    print(\"Algo deu errado... Tchau!\")"
      ],
      "execution_count": 0,
      "outputs": []
    },
    {
      "cell_type": "markdown",
      "metadata": {
        "id": "-7pl7HNCnHiM",
        "colab_type": "text"
      },
      "source": [
        "No BOOTCAMP CHATBOTS PARA WHATSAPP nos aprofundamos nesta e em outras bibliotecas, ativando por exemplo adaptadores lógicos e armazenamento dos conhecimentos, além da possibilidade de aprendizado contínuo da máquina e outros frameworks."
      ]
    }
  ]
}