{
  "nbformat": 4,
  "nbformat_minor": 0,
  "metadata": {
    "colab": {
      "name": "dia5-imersão-chatbots-whatsapp.ipynb",
      "provenance": [],
      "collapsed_sections": [],
      "include_colab_link": true
    },
    "kernelspec": {
      "name": "python3",
      "display_name": "Python 3"
    }
  },
  "cells": [
    {
      "cell_type": "markdown",
      "metadata": {
        "id": "view-in-github",
        "colab_type": "text"
      },
      "source": [
        "<a href=\"https://colab.research.google.com/github/salomao2005/Cookbook/blob/master/dia5_imers%C3%A3o_chatbots_whatsapp.ipynb\" target=\"_parent\"><img src=\"https://colab.research.google.com/assets/colab-badge.svg\" alt=\"Open In Colab\"/></a>"
      ]
    },
    {
      "cell_type": "markdown",
      "metadata": {
        "id": "qwg-A-PYfsnA",
        "colab_type": "text"
      },
      "source": [
        "# Conectando ao Web Whatsapp - Parte 2\n",
        "---\n",
        "No BOOTCAMP CHATBOTS PARA WHATSAPP nos aprofundamos nas features e capacidades do chatbot(como envio de arquivos/imagens), tanto em API´s e Webhooks, como na escalabilidade/disponibilidade na conexão junto ao Whatsapp Mobile."
      ]
    },
    {
      "cell_type": "code",
      "metadata": {
        "id": "v7v3JYQ7aaCy",
        "colab_type": "code",
        "colab": {}
      },
      "source": [
        "# WIKIPEDIA\n",
        "import wikipedia\n",
        "wikipedia.set_lang('pt')\n",
        "def wiki():\n",
        "  try:\n",
        "    busca = str(pegaConversa().strip().lower()[2:])\n",
        "    mensagem = '{}'.format(wikipedia.summary(busca))\n",
        "    enviaMensagem(mensagem)\n",
        "  except:\n",
        "    enviaMensagem('Não encontrei nada relevante para \"{}\" na Wikipedia em português.'.format(busca))"
      ],
      "execution_count": 0,
      "outputs": []
    },
    {
      "cell_type": "code",
      "metadata": {
        "id": "QGuPXdk7aceg",
        "colab_type": "code",
        "colab": {}
      },
      "source": [
        "# NOTÍCIAS\n",
        "import json\n",
        "import requests\n",
        "def noticias():\n",
        "\ttry:\n",
        "\t\treq = requests.get('https://newsapi.org/v2/top-headlines?country=br&category=technology&apiKey=')\n",
        "\t\tnoticias = json.loads(req.text)\n",
        "\t\tfor news in noticias['articles']:\n",
        "\t\t\ttitulo = news['title']\n",
        "\t\t\tlink = news['url']\n",
        "\t\t\tdesc = news['description']\n",
        "\t\t\tmensagem = \"{}\\n{}\\n{}\".format(titulo,desc,link)\n",
        "\t\t\tenviaMensagem(mensagem)\n",
        "\t\t\ttime.sleep(1)\n",
        "\texcept:\n",
        "\t\tenviaMensagem(\"agora não...\")\n",
        "\t\tpass"
      ],
      "execution_count": 0,
      "outputs": []
    },
    {
      "cell_type": "code",
      "metadata": {
        "id": "Z2MuQDxSv0mt",
        "colab_type": "code",
        "colab": {}
      },
      "source": [
        "# VISÃO COMPUTACIONAL\n",
        "from PIL import Image #pip install Pillow\n",
        "def visa():\n",
        "\t# CAPTAR A FOTO\n",
        "\tfoto = driver.find_elements_by_class_name('_3mdDl')\n",
        "\tlast = len(foto) - 1\n",
        "\tfor img in foto[last].find_elements_by_tag_name('img'):\n",
        "\t  try:\n",
        "\t\t  #salvar imagem\n",
        "\t\t  img.screenshot(\"path/nome.png\")\n",
        "\t\t  #converter imagem\n",
        "\t\t  im = Image.open(\"path/nome.png\")\n",
        "\t\t  rgb = im.convert('RGB')\n",
        "\t\t  rgb.save(\"path/nome.jpg\")\n",
        "\t\t  break\n",
        "\t  except:\n",
        "\t\t  enviaMensagem(\"agora não...\")\n",
        "\t\t  break\n",
        "\tenviaMensagem(\"Analisando imagem...\")\n",
        "\t# PUBLICAR FOTO NA WEB\n",
        "\tfrom imgurpython import ImgurClient\n",
        "\tclient_id = 'CLIENT-ID'\n",
        "\tclient_secret = 'CLIENT SCRET'\n",
        "\tclient = ImgurClient(client_id, client_secret)\n",
        "\timage = client.upload_from_path(\"path-da-sua-img\",anon=False)\n",
        "\tprint(image['link'])\n",
        "\t# API AZURE FACE\n",
        "\timport requests\n",
        "\timport json\n",
        "\timport os\n",
        "\tsubscription_key = \"key\"\n",
        "\tassert subscription_key\n",
        "\tface_api_url = 'seu-endpoint/detect'\n",
        "\timage_url = image['link']\n",
        "\theaders = {'Ocp-Apim-Subscription-Key': subscription_key}\n",
        "\tparams = {'returnFaceId': 'true','returnFaceLandmarks': 'false','returnFaceAttributes': 'age,gender'}\n",
        "\trespo = requests.post(face_api_url, params=params,headers=headers, json={\"url\": image_url})\n",
        "\t# ENVIAR RESULTADOS DA API\n",
        "\ttry:\n",
        "\t\tgenero = None\n",
        "\t\tif (response.json()[0][\"faceAttributes\"]['gender'] == 'male'):\n",
        "\t\t\tgenero = \"Homem\"\n",
        "\t\telse:\n",
        "\t\t\tgenero = \"Mulher\"\n",
        "\t\tenviaMensagem(\"{}, {} anos\".format(genero,int(respo.json()[0]['faceAttributes']['age'])))\n",
        "\texcept:\n",
        "\t\tenviaMensagem(\"Rosto não reconhecido.\")"
      ],
      "execution_count": 0,
      "outputs": []
    },
    {
      "cell_type": "code",
      "metadata": {
        "id": "2nFesBRBfq1I",
        "colab_type": "code",
        "colab": {}
      },
      "source": [
        "# BLOCO PRINCIPAL DE EXECUÇÃO\n",
        "salva = pegaConversa()\n",
        "while True:\n",
        "\ttry:\n",
        "\t\tif pegaConversa() != '' and pegaConversa()[:8] != \"Ananda: \" and pegaConversa() != salva and pegaConversa().strip() != \"!\" and pegaConversa().strip() != \";\" and pegaConversa().strip().lower()[0:2] != 'w:' and pegaConversa().strip().lower() != 'noticias' and pegaConversa().strip().lower() != 'notícias' and pegaConversa().strip().lower() != 'visão computacional':\n",
        "\t\t\ttexto = str(pegaConversa().lower().strip())\n",
        "\t\t\tresponse = chatbot.get_response(texto)\n",
        "\t\t\tif float(response.confidence) < 0.2:\n",
        "\t\t\t\ttreinar(pegaConversa())\n",
        "\t\t\telse:\n",
        "\t\t\t\tenviaMensagem(response)\n",
        "\t\telif pegaConversa().strip().lower()[0:2] == 'w:':\n",
        "\t\t\twiki()\n",
        "\t\telif pegaConversa().strip().lower() == 'noticias' or pegaConversa().strip().lower() == 'notícias':\n",
        "\t\t\tnoticias()\n",
        "\t\telif pegaConversa().strip().lower() == 'visão computacional':\n",
        "\t\t\tenviaMensagem(\"Aguardando envio da imagem...\")\n",
        "\t\t\ttime.sleep(15)\n",
        "\t\t\tvisa()\n",
        "\t\t\tpass\n",
        "\t\telse:\n",
        "\t\t\tpass\n",
        "\texcept:\n",
        "\t\tpass\n"
      ],
      "execution_count": 0,
      "outputs": []
    }
  ]
}