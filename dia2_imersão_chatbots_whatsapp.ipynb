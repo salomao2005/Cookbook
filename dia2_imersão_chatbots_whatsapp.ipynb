{
  "nbformat": 4,
  "nbformat_minor": 0,
  "metadata": {
    "colab": {
      "name": "dia2-imersão-chatbots-whatsapp.ipynb",
      "provenance": [],
      "private_outputs": true,
      "collapsed_sections": [
        "6B7Adokbd34h",
        "EBQaJ55Cd9LZ",
        "OFGJNKUTeAXp",
        "mr5R6nvseCQI",
        "EkrSugWbwYx3",
        "jspULGJgeEOI",
        "W5f1rXl4eHxQ",
        "hNu5CdepeLh4"
      ],
      "include_colab_link": true
    },
    "kernelspec": {
      "name": "python3",
      "display_name": "Python 3"
    },
    "accelerator": "GPU"
  },
  "cells": [
    {
      "cell_type": "markdown",
      "metadata": {
        "id": "view-in-github",
        "colab_type": "text"
      },
      "source": [
        "<a href=\"https://colab.research.google.com/github/salomao2005/Cookbook/blob/master/dia2_imers%C3%A3o_chatbots_whatsapp.ipynb\" target=\"_parent\"><img src=\"https://colab.research.google.com/assets/colab-badge.svg\" alt=\"Open In Colab\"/></a>"
      ]
    },
    {
      "cell_type": "markdown",
      "metadata": {
        "id": "sV-J6T-gdkkC",
        "colab_type": "text"
      },
      "source": [
        "#Python\n",
        "---\n",
        "No BOOTCAMP CHATBOTS PARA WHATSAPP nos aprofundamos em dezenas de exercícios, projetos práticos e módulos relacionados a LÓGICA DE PROGRAMAÇÃO.\n"
      ]
    },
    {
      "cell_type": "markdown",
      "metadata": {
        "id": "6B7Adokbd34h",
        "colab_type": "text"
      },
      "source": [
        "##Print/Input"
      ]
    },
    {
      "cell_type": "code",
      "metadata": {
        "id": "WUpXQFW-dclq",
        "colab_type": "code",
        "colab": {}
      },
      "source": [
        "print(\"Hello Qoda!\")"
      ],
      "execution_count": 0,
      "outputs": []
    },
    {
      "cell_type": "code",
      "metadata": {
        "id": "OB0taTrERR47",
        "colab_type": "code",
        "colab": {}
      },
      "source": [
        "x = input(\"Qual é o seu nome? \")\n",
        "print(f\"Olá, {x}\")"
      ],
      "execution_count": 0,
      "outputs": []
    },
    {
      "cell_type": "markdown",
      "metadata": {
        "id": "EBQaJ55Cd9LZ",
        "colab_type": "text"
      },
      "source": [
        "##Tipos de Dados"
      ]
    },
    {
      "cell_type": "code",
      "metadata": {
        "id": "kchaFEcGd_f5",
        "colab_type": "code",
        "colab": {}
      },
      "source": [
        "#String (str)\n",
        "string = \"Oi, sou uma string!\"\n",
        "print(type(string))"
      ],
      "execution_count": 0,
      "outputs": []
    },
    {
      "cell_type": "code",
      "metadata": {
        "id": "M6Uh2v9Bm8Pr",
        "colab_type": "code",
        "colab": {}
      },
      "source": [
        "# Inteiro(int)\n",
        "y = 3\n",
        "print(type(y))"
      ],
      "execution_count": 0,
      "outputs": []
    },
    {
      "cell_type": "code",
      "metadata": {
        "id": "DcHiR_CunG9Q",
        "colab_type": "code",
        "colab": {}
      },
      "source": [
        "# Flutuantes (float)\n",
        "z = 1.6\n",
        "print(type(z))"
      ],
      "execution_count": 0,
      "outputs": []
    },
    {
      "cell_type": "code",
      "metadata": {
        "id": "-S1TMbhnnP9I",
        "colab_type": "code",
        "colab": {}
      },
      "source": [
        "# Lista(list)\n",
        "a = ['texto', 3, 4.8]\n",
        "print(type(a))"
      ],
      "execution_count": 0,
      "outputs": []
    },
    {
      "cell_type": "code",
      "metadata": {
        "id": "WRda1qUlnj-x",
        "colab_type": "code",
        "colab": {}
      },
      "source": [
        "# Tupla(tuple)\n",
        "b = (1, 'texto', 4.1)\n",
        "print(type(b))"
      ],
      "execution_count": 0,
      "outputs": []
    },
    {
      "cell_type": "code",
      "metadata": {
        "id": "YCGKzb10nv0v",
        "colab_type": "code",
        "colab": {}
      },
      "source": [
        "# Dicionário(dict)\n",
        "c = {'nome':'José','idade': 20}\n",
        "print(type(c))"
      ],
      "execution_count": 0,
      "outputs": []
    },
    {
      "cell_type": "code",
      "metadata": {
        "id": "zbqZmt8roKY_",
        "colab_type": "code",
        "colab": {}
      },
      "source": [
        "# Conjunto(set)\n",
        "d = {'paulo','ricardo','ana'}\n",
        "print(type(d))"
      ],
      "execution_count": 0,
      "outputs": []
    },
    {
      "cell_type": "code",
      "metadata": {
        "id": "tRKZkR2Moctg",
        "colab_type": "code",
        "colab": {}
      },
      "source": [
        "# Booleano(bool)\n",
        "e = True \n",
        "print(type(e))"
      ],
      "execution_count": 0,
      "outputs": []
    },
    {
      "cell_type": "markdown",
      "metadata": {
        "id": "OFGJNKUTeAXp",
        "colab_type": "text"
      },
      "source": [
        "##Operadores"
      ]
    },
    {
      "cell_type": "markdown",
      "metadata": {
        "id": "TU-BhTnXv3on",
        "colab_type": "text"
      },
      "source": [
        ">Operador Lógico | Significado\n",
        ">--- | ---\n",
        ">> | Maior que\n",
        ">< | Menor que\n",
        ">== | Igual a\n",
        ">>= | Maior ou igual a\n",
        "><= | Menor ou igual a\n",
        ">!= | Diferente de"
      ]
    },
    {
      "cell_type": "code",
      "metadata": {
        "id": "q6Ol7XXqeCJY",
        "colab_type": "code",
        "colab": {}
      },
      "source": [
        "# Adição\n",
        "5+1"
      ],
      "execution_count": 0,
      "outputs": []
    },
    {
      "cell_type": "code",
      "metadata": {
        "id": "0q8ufWSSzriR",
        "colab_type": "code",
        "colab": {}
      },
      "source": [
        "'Oi,'+' me chamo Antônio!'"
      ],
      "execution_count": 0,
      "outputs": []
    },
    {
      "cell_type": "code",
      "metadata": {
        "id": "pHeKKfrczylY",
        "colab_type": "code",
        "colab": {}
      },
      "source": [
        "3.4 + 4"
      ],
      "execution_count": 0,
      "outputs": []
    },
    {
      "cell_type": "code",
      "metadata": {
        "id": "4hSCYqGh3SXB",
        "colab_type": "code",
        "colab": {}
      },
      "source": [
        "# Subtração\n",
        "5-1"
      ],
      "execution_count": 0,
      "outputs": []
    },
    {
      "cell_type": "code",
      "metadata": {
        "id": "5M1xjBcY3k8A",
        "colab_type": "code",
        "colab": {}
      },
      "source": [
        "3.4-3"
      ],
      "execution_count": 0,
      "outputs": []
    },
    {
      "cell_type": "code",
      "metadata": {
        "id": "Ybs3cFyh3X73",
        "colab_type": "code",
        "colab": {}
      },
      "source": [
        "'Oi, me chamo Antônio!' - 'Antônio'"
      ],
      "execution_count": 0,
      "outputs": []
    },
    {
      "cell_type": "code",
      "metadata": {
        "id": "v7iJqZt73rTA",
        "colab_type": "code",
        "colab": {}
      },
      "source": [
        "# Multiplicação\n",
        "3*3"
      ],
      "execution_count": 0,
      "outputs": []
    },
    {
      "cell_type": "code",
      "metadata": {
        "id": "DJHn9TPm310Y",
        "colab_type": "code",
        "colab": {}
      },
      "source": [
        "3.4*3"
      ],
      "execution_count": 0,
      "outputs": []
    },
    {
      "cell_type": "code",
      "metadata": {
        "id": "ohIJq8uy3v9p",
        "colab_type": "code",
        "colab": {}
      },
      "source": [
        "'*****'*10"
      ],
      "execution_count": 0,
      "outputs": []
    },
    {
      "cell_type": "code",
      "metadata": {
        "id": "b41GR3gd35Iw",
        "colab_type": "code",
        "colab": {}
      },
      "source": [
        "# Exponenciação\n",
        "3**2"
      ],
      "execution_count": 0,
      "outputs": []
    },
    {
      "cell_type": "code",
      "metadata": {
        "id": "Bo_L1cEf3844",
        "colab_type": "code",
        "colab": {}
      },
      "source": [
        "3**3"
      ],
      "execution_count": 0,
      "outputs": []
    },
    {
      "cell_type": "code",
      "metadata": {
        "id": "nkvatX-34EjY",
        "colab_type": "code",
        "colab": {}
      },
      "source": [
        "# Divisão\n",
        "10/2"
      ],
      "execution_count": 0,
      "outputs": []
    },
    {
      "cell_type": "code",
      "metadata": {
        "id": "IpN1KiJs4I94",
        "colab_type": "code",
        "colab": {}
      },
      "source": [
        "10/3"
      ],
      "execution_count": 0,
      "outputs": []
    },
    {
      "cell_type": "code",
      "metadata": {
        "id": "zx2J3I1D4aOw",
        "colab_type": "code",
        "colab": {}
      },
      "source": [
        "# Parte inteira da divisão\n",
        "10//3"
      ],
      "execution_count": 0,
      "outputs": []
    },
    {
      "cell_type": "code",
      "metadata": {
        "id": "dOlaF0F74SjS",
        "colab_type": "code",
        "colab": {}
      },
      "source": [
        "# Resto da divisão(módulo)\n",
        "10%3"
      ],
      "execution_count": 0,
      "outputs": []
    },
    {
      "cell_type": "markdown",
      "metadata": {
        "id": "mr5R6nvseCQI",
        "colab_type": "text"
      },
      "source": [
        "##Condicionais"
      ]
    },
    {
      "cell_type": "code",
      "metadata": {
        "id": "4_ohEZDQeECp",
        "colab_type": "code",
        "colab": {}
      },
      "source": [
        "# IF / ELSE\n",
        "if 1 > 0:\n",
        "  print('1 é maior que 0')\n",
        "else:\n",
        "  print('0 é maior que 1')"
      ],
      "execution_count": 0,
      "outputs": []
    },
    {
      "cell_type": "code",
      "metadata": {
        "id": "kjeKd_Jo5uWK",
        "colab_type": "code",
        "colab": {}
      },
      "source": [
        "# IF, ELIF e ELSE\n",
        "if 1 > 0:\n",
        "  print('1 é maior que 0')\n",
        "elif 1 == 0:\n",
        "  print('1 e 0 são iguais')\n",
        "else:\n",
        "  print('0 é maior que 1')"
      ],
      "execution_count": 0,
      "outputs": []
    },
    {
      "cell_type": "code",
      "metadata": {
        "id": "D8mJGKZhv8YO",
        "colab_type": "code",
        "colab": {}
      },
      "source": [
        "# WHILE\n",
        "x = 0\n",
        "while x < 10:\n",
        "  print(f\"x vale {x}\")\n",
        "  x += 1"
      ],
      "execution_count": 0,
      "outputs": []
    },
    {
      "cell_type": "markdown",
      "metadata": {
        "id": "EkrSugWbwYx3",
        "colab_type": "text"
      },
      "source": [
        "## Laçoes de Repetição"
      ]
    },
    {
      "cell_type": "code",
      "metadata": {
        "id": "XgvZnfZiwdQ_",
        "colab_type": "code",
        "colab": {}
      },
      "source": [
        "# FOR\n",
        "frase = \"Olá, o nome de nossa chatbot será: Ananda!\"\n",
        "for x in frase:\n",
        "  print(x)"
      ],
      "execution_count": 0,
      "outputs": []
    },
    {
      "cell_type": "code",
      "metadata": {
        "id": "RLVXSOLFwe3H",
        "colab_type": "code",
        "colab": {}
      },
      "source": [
        "# FOR / RANGE\n",
        "for _ in range(0,100,2):\n",
        "  print(_)"
      ],
      "execution_count": 0,
      "outputs": []
    },
    {
      "cell_type": "markdown",
      "metadata": {
        "id": "jspULGJgeEOI",
        "colab_type": "text"
      },
      "source": [
        "##Métodos e Funções"
      ]
    },
    {
      "cell_type": "code",
      "metadata": {
        "id": "7dCdDj18eHlY",
        "colab_type": "code",
        "colab": {}
      },
      "source": [
        "# Funções\n",
        "def raiz_quadrada(x):\n",
        "  return x**2"
      ],
      "execution_count": 0,
      "outputs": []
    },
    {
      "cell_type": "code",
      "metadata": {
        "id": "d7BrTneP7qjI",
        "colab_type": "code",
        "colab": {}
      },
      "source": [
        "raiz_quadrada(2)"
      ],
      "execution_count": 0,
      "outputs": []
    },
    {
      "cell_type": "code",
      "metadata": {
        "id": "a2ZqYSwg8SU5",
        "colab_type": "code",
        "colab": {}
      },
      "source": [
        "# Métodos (ligados a uma classe)\n",
        "# \"Os métodos são definidos dentro de uma definição de classe para tornar clara a relação entre a classe e o método.\"\n",
        "frase = \"Oi, me chamo Antônio!\"\n",
        "print(frase.upper())"
      ],
      "execution_count": 0,
      "outputs": []
    },
    {
      "cell_type": "markdown",
      "metadata": {
        "id": "W5f1rXl4eHxQ",
        "colab_type": "text"
      },
      "source": [
        "## Pacotes"
      ]
    },
    {
      "cell_type": "code",
      "metadata": {
        "id": "nqcOJR9seLO4",
        "colab_type": "code",
        "colab": {}
      },
      "source": [
        "!pip install nltk"
      ],
      "execution_count": 0,
      "outputs": []
    },
    {
      "cell_type": "code",
      "metadata": {
        "id": "eHqb3Y_v9kki",
        "colab_type": "code",
        "colab": {}
      },
      "source": [
        "import nltk"
      ],
      "execution_count": 0,
      "outputs": []
    },
    {
      "cell_type": "code",
      "metadata": {
        "id": "z-r0ZDCP9tIQ",
        "colab_type": "code",
        "colab": {}
      },
      "source": [
        "from google.colab import files\n",
        "files.upload()"
      ],
      "execution_count": 0,
      "outputs": []
    },
    {
      "cell_type": "markdown",
      "metadata": {
        "id": "hNu5CdepeLh4",
        "colab_type": "text"
      },
      "source": [
        "##Try/Except"
      ]
    },
    {
      "cell_type": "code",
      "metadata": {
        "id": "5hTXVK_reOrQ",
        "colab_type": "code",
        "colab": {}
      },
      "source": [
        "'Oi, bem vindo(a) a Qoda!'/2"
      ],
      "execution_count": 0,
      "outputs": []
    },
    {
      "cell_type": "code",
      "metadata": {
        "id": "mojYan1798T5",
        "colab_type": "code",
        "colab": {}
      },
      "source": [
        "try:\n",
        "  'Oi, bem vindo(a) a Qoda!'/2\n",
        "except:\n",
        "  print(\"Deu erro...\")"
      ],
      "execution_count": 0,
      "outputs": []
    },
    {
      "cell_type": "code",
      "metadata": {
        "id": "51ch9go_-Ib5",
        "colab_type": "code",
        "colab": {}
      },
      "source": [
        "try:\n",
        "  'Oi, bem vindo(a) a Qoda!'/2\n",
        "except Exception as e:\n",
        "  print(f\"Aconteceu o seguinte: {e}\\ne por isto encerrei o código.\")"
      ],
      "execution_count": 0,
      "outputs": []
    },
    {
      "cell_type": "markdown",
      "metadata": {
        "id": "qokJnadQQTXX",
        "colab_type": "text"
      },
      "source": [
        "#Exercícios\n",
        "\n",
        "\n",
        "---\n",
        "\n",
        "\n",
        "\n",
        "*   Python Brasil em https://wiki.python.org.br/ListaDeExercicios\n",
        "*   Gustavo Guanabara em https://www.youtube.com/playlist?list=PLHz_AreHm4dm6wYOIW20Nyg12TAjmMGT-\n",
        "\n"
      ]
    }
  ]
}