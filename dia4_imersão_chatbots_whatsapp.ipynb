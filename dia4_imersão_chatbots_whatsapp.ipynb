{
  "nbformat": 4,
  "nbformat_minor": 0,
  "metadata": {
    "colab": {
      "name": "dia4-imersão-chatbots-whatsapp.ipynb",
      "provenance": [],
      "private_outputs": true,
      "collapsed_sections": [],
      "include_colab_link": true
    },
    "kernelspec": {
      "name": "python3",
      "display_name": "Python 3"
    },
    "accelerator": "GPU"
  },
  "cells": [
    {
      "cell_type": "markdown",
      "metadata": {
        "id": "view-in-github",
        "colab_type": "text"
      },
      "source": [
        "<a href=\"https://colab.research.google.com/github/salomao2005/Cookbook/blob/master/dia4_imers%C3%A3o_chatbots_whatsapp.ipynb\" target=\"_parent\"><img src=\"https://colab.research.google.com/assets/colab-badge.svg\" alt=\"Open In Colab\"/></a>"
      ]
    },
    {
      "cell_type": "markdown",
      "metadata": {
        "id": "APJ8fGhpqO30",
        "colab_type": "text"
      },
      "source": [
        "# Conectando ao Web Whatsapp - Parte 1\n",
        "---\n",
        "No BOOTCAMP CHATBOTS PARA WHATSAPP nos aprofundamos nas features e capacidades do chatbot(como envio de arquivos/imagens), tanto em API´s e Webhooks, como na escalabilidade/disponibilidade na conexão junto ao Whatsapp Mobile."
      ]
    },
    {
      "cell_type": "code",
      "metadata": {
        "id": "qEvb7jRLqHja",
        "colab_type": "code",
        "colab": {}
      },
      "source": [
        "# IMPORTAR AS LIBS\n",
        "import os\n",
        "import time\n",
        "\n",
        "from selenium import webdriver\n",
        "from selenium.webdriver.common.keys import Keys\n",
        "from selenium.webdriver.common.action_chains import ActionChains\n",
        "from selenium.webdriver.chrome.options import Options\n",
        "\n",
        "from chatterbot import ChatBot\n",
        "from chatterbot.trainers import ChatterBotCorpusTrainer\n",
        "from chatterbot.trainers import ListTrainer"
      ],
      "execution_count": 0,
      "outputs": []
    },
    {
      "cell_type": "code",
      "metadata": {
        "id": "q10E3OlUoGQ2",
        "colab_type": "code",
        "colab": {}
      },
      "source": [
        "#INSTANCIAR CHATBOT\n",
        "chatbot = ChatBot('Ananda')\n",
        "trainer = ChatterBotCorpusTrainer(chatbot)\n",
        "trainer.train('chatterbot.corpus.portuguese')\n",
        "trainerer = ListTrainer(chatbot)\n",
        "\n",
        "# ARMAZENAR DIRETORIO PRINCIPAL EM VARIAVEL\n",
        "dir_path = os.getcwd()"
      ],
      "execution_count": 0,
      "outputs": []
    },
    {
      "cell_type": "code",
      "metadata": {
        "id": "KbVuZVMZojPa",
        "colab_type": "code",
        "colab": {}
      },
      "source": [
        "# INICIAR APLICAÇÃO\n",
        "driver = webdriver.Chrome(dir_path+'/chromedriver.exe') \n",
        "driver.get('https://web.whatsapp.com/')\n",
        "driver.implicitly_wait(15)"
      ],
      "execution_count": 0,
      "outputs": []
    },
    {
      "cell_type": "code",
      "metadata": {
        "id": "e0PwFQW_BVCt",
        "colab_type": "code",
        "colab": {}
      },
      "source": [
        "# FUNÇÕES BÁSICAS DE COMUNICAÇÃO\n",
        "def pegaConversa():\n",
        "\ttry:\n",
        "\t\tpost = driver.find_elements_by_class_name(\"_12pGw\")\n",
        "\t\tultimo = len(post) - 1\n",
        "\t\ttexto = post[ultimo].find_elements_by_css_selector(\"span.selectable-text\").text\n",
        "\t\treturn texto\n",
        "\texcept:\n",
        "\t\tpass\n",
        "\n",
        "def enviaMensagem(mensagem):\n",
        "\tcaixa_de_texto = driver.find_element_by_class_name('_3u328')\n",
        "\tvalor = \"*Ananda:* \"+str(mensagem)\n",
        "\tfor part in valor.split(\"\\n\"):\n",
        "\t\tcaixa_de_texto.send_keys(part)\n",
        "\t\tActionChains(driver).key_down(keys.SHIFT).key_down(keys.ENTER).key_up(keys.SHIFT).perform()\n",
        "\ttime.sleep(0.5)\n",
        "\tbotao_enviar = driver.find_elements_by_class_name('_3M-N-')\n",
        "\tbotao_enviar.click()\n",
        "\n",
        "def treinar(mensagem):\n",
        "\tresposta = 'Como respondo isso? me ensina, por favor...? utilize ;\"'+str(mensagem)+'\"'\n",
        "\tenviaMensagem(resposta)\n",
        "\tnovo = []\n",
        "\ttry:\n",
        "\t\twhile True:\n",
        "\t\t\tultima = pegaConversa()\n",
        "\t\t\tif ultima == \"!\":\n",
        "\t\t\t\tenviaMensagem(\"Você desativou meu aprendizado.\")\n",
        "\t\t\t\tbreak\n",
        "\t\t\telif ultima.replace(';','') != '' and ultima != mensagem and ultima[0] == \";\" :\n",
        "\t\t\t\tauxiliar = ultima\n",
        "\t\t\t\tprint(mensagem.lower().strip())\n",
        "\t\t\t\tprint(ultima.replace(';','').lower().strip())\n",
        "\t\t\t\tnovo.append(mensagem.lower().strip())\n",
        "\t\t\t\tnovo.append(ultima.replace(';','').lower().strip())\n",
        "\t\t\t\ttrainerer.train(novo)\n",
        "\t\t\t\tenviaMensagem(\"Pronto, aprendi! Obrigada <3\")\n",
        "\t\t\t\tbreak\n",
        "\texcept:\n",
        "\t\tpass"
      ],
      "execution_count": 0,
      "outputs": []
    }
  ]
}